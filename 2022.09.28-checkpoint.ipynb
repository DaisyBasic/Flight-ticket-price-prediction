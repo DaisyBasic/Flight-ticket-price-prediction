{
 "cells": [
  {
   "cell_type": "code",
   "execution_count": 14,
   "id": "84126a20",
   "metadata": {},
   "outputs": [
    {
     "ename": "IndexError",
     "evalue": "list index out of range",
     "output_type": "error",
     "traceback": [
      "\u001b[1;31m---------------------------------------------------------------------------\u001b[0m",
      "\u001b[1;31mIndexError\u001b[0m                                Traceback (most recent call last)",
      "\u001b[1;32m<ipython-input-14-f65af92a0a29>\u001b[0m in \u001b[0;36m<module>\u001b[1;34m\u001b[0m\n\u001b[0;32m     53\u001b[0m         \u001b[0mdata_dic\u001b[0m\u001b[1;33m[\u001b[0m\u001b[1;34m'date'\u001b[0m\u001b[1;33m]\u001b[0m\u001b[1;33m.\u001b[0m\u001b[0mappend\u001b[0m\u001b[1;33m(\u001b[0m\u001b[0mflight_date\u001b[0m\u001b[1;33m)\u001b[0m\u001b[1;33m\u001b[0m\u001b[1;33m\u001b[0m\u001b[0m\n\u001b[0;32m     54\u001b[0m         \u001b[0mdata_dic\u001b[0m\u001b[1;33m[\u001b[0m\u001b[1;34m'duration'\u001b[0m\u001b[1;33m]\u001b[0m\u001b[1;33m.\u001b[0m\u001b[0mappend\u001b[0m\u001b[1;33m(\u001b[0m\u001b[0mflight_duration\u001b[0m\u001b[1;33m[\u001b[0m\u001b[0mi\u001b[0m\u001b[1;33m]\u001b[0m\u001b[1;33m.\u001b[0m\u001b[0mtext\u001b[0m\u001b[1;33m)\u001b[0m\u001b[1;33m\u001b[0m\u001b[1;33m\u001b[0m\u001b[0m\n\u001b[1;32m---> 55\u001b[1;33m         \u001b[0mdata_dic\u001b[0m\u001b[1;33m[\u001b[0m\u001b[1;34m'transfer'\u001b[0m\u001b[1;33m]\u001b[0m\u001b[1;33m.\u001b[0m\u001b[0mappend\u001b[0m\u001b[1;33m(\u001b[0m\u001b[0mflight_transfer\u001b[0m\u001b[1;33m[\u001b[0m\u001b[0mi\u001b[0m\u001b[1;33m]\u001b[0m\u001b[1;33m.\u001b[0m\u001b[0mtext\u001b[0m\u001b[1;33m)\u001b[0m\u001b[1;33m\u001b[0m\u001b[1;33m\u001b[0m\u001b[0m\n\u001b[0m\u001b[0;32m     56\u001b[0m         \u001b[0mdata_dic\u001b[0m\u001b[1;33m[\u001b[0m\u001b[1;34m'price'\u001b[0m\u001b[1;33m]\u001b[0m\u001b[1;33m.\u001b[0m\u001b[0mappend\u001b[0m\u001b[1;33m(\u001b[0m\u001b[0mflight_fares\u001b[0m\u001b[1;33m[\u001b[0m\u001b[0mi\u001b[0m\u001b[1;33m]\u001b[0m\u001b[1;33m.\u001b[0m\u001b[0mtext\u001b[0m\u001b[1;33m)\u001b[0m\u001b[1;33m\u001b[0m\u001b[1;33m\u001b[0m\u001b[0m\n\u001b[0;32m     57\u001b[0m \u001b[1;33m\u001b[0m\u001b[0m\n",
      "\u001b[1;31mIndexError\u001b[0m: list index out of range"
     ]
    }
   ],
   "source": [
    "from selenium import webdriver\n",
    "from selenium.webdriver.common.by import By\n",
    "from selenium.webdriver.common.keys import Keys\n",
    "from bs4 import BeautifulSoup as bs\n",
    "import pandas as pd\n",
    "import time\n",
    "\n",
    "url = \"https://www.koreanair.com/booking/select-flight/departure\"\n",
    "keyword = \"뉴욕\"\n",
    "date = 1\n",
    "count = 1\n",
    "transfer_list = []\n",
    "data_dic = {'date' : [],\n",
    "            'time1' : [],\n",
    "            'time2' : [],\n",
    "            'duration' : [],\n",
    "            'transfer' : [],\n",
    "            'flight_number1' : [],\n",
    "            'flight_number2' : [],\n",
    "            'price' : []}\n",
    "\n",
    "driver = webdriver.Chrome()\n",
    "driver.get(url)\n",
    "driver.implicitly_wait(10)\n",
    "\n",
    "destination_btn = driver.find_element(By.XPATH, '//span[text() = \"To\"]')\n",
    "destination_btn.click()\n",
    "destination_name = driver.find_element(By.CLASS_NAME, 'auto-search__text')\n",
    "destination_name.send_keys(keyword)\n",
    "time.sleep(1)\n",
    "destination_name.send_keys(Keys.ARROW_DOWN)\n",
    "destination_name.send_keys(Keys.ENTER)\n",
    "one_way_btn = driver.find_elements(By.CLASS_NAME, 'selection')\n",
    "one_way_btn[count].click()\n",
    "date_btn = driver.find_element(By.CLASS_NAME, \"booking-new__datepicker\")\n",
    "date_btn.click()\n",
    "flight_date = driver.find_elements(By.XPATH, \"//span[text()='{}']\".format(date))\n",
    "flight_date[1].click()\n",
    "confirm_btn = driver.find_element(By.XPATH, \"//button[contains(text(),'확인')]\")\n",
    "confirm_btn.click()\n",
    "confirm_btn2 = driver.find_element(By.XPATH, \"//button[contains(text(),'항공편 검색')]\")\n",
    "confirm_btn2.click()\n",
    "driver.implicitly_wait(5)\n",
    "time.sleep(1)\n",
    "\n",
    "if driver.current_url == \"https://www.koreanair.com/booking/select-flight/departure\":\n",
    "    flight_date = date\n",
    "    flight_time = driver.find_elements(By.CLASS_NAME, \"flight__time\")\n",
    "    flight_duration = driver.find_elements(By.CLASS_NAME, \"flight__duration\")\n",
    "    flight_transfer = driver.find_elements(By.CLASS_NAME, \"flight__stop\")\n",
    "    flight_number = driver.find_elements(By.CLASS_NAME, \"flight__number\")\n",
    "    flight_fares = driver.find_elements(By.CLASS_NAME, \"flight__fare\")\n",
    "    flight_info = driver.find_elements(By.CLASS_NAME, \"flight__info\")\n",
    "    \n",
    "    for i in range(len(flight_fares)):\n",
    "        data_dic['date'].append(flight_date)\n",
    "        data_dic['duration'].append(flight_duration[i].text)\n",
    "        data_dic['price'].append(flight_fares[i].text)\n",
    "        \n",
    "    for i in range(len(flight_fares)):\n",
    "        data_dic['transfer'].append(flight_transfer[i].text)\n",
    "        try:\n",
    "            //*[@id=\"bf8185e30011c30ec671a6f3dc19b034AirOfferBounds\"]/div/div[2]/ul/li[3]/div[1]/a/div[1]/div/div[2]/span[3]/span\n",
    "            //*[@id=\"bf8185e30011c30ec671a6f3dc19b034AirOfferBounds\"]/div/div[2]/ul/li[4]/div[1]/a/div[1]/div/div[2]/span[3]/span\n",
    "    for i in range(0,len(flight_time), 2):\n",
    "        data_dic['time1'].append(flight_time[i].text)\n",
    "        data_dic['time2'].append(flight_time[i+1].text)\n",
    "        data_dic['flight_number1'].append(flight_number[i].text)\n",
    "        data_dic['flight_number2'].append(flight_number[i+1].text)\n",
    "        \n",
    "print(data_dic)\n",
    "file_name = date + keyword\n",
    "data_df = pd.DataFrame(data_dic)\n",
    "data_df.to_excel(\"{}.xlsx\".format(file_name))"
   ]
  },
  {
   "cell_type": "code",
   "execution_count": 5,
   "id": "8428eade",
   "metadata": {},
   "outputs": [
    {
     "ename": "AttributeError",
     "evalue": "module 'plotly.express' has no attribute 'scatter_4d'",
     "output_type": "error",
     "traceback": [
      "\u001b[1;31m---------------------------------------------------------------------------\u001b[0m",
      "\u001b[1;31mAttributeError\u001b[0m                            Traceback (most recent call last)",
      "\u001b[1;32m<ipython-input-5-51b944bbaa78>\u001b[0m in \u001b[0;36m<module>\u001b[1;34m\u001b[0m\n\u001b[0;32m      2\u001b[0m \u001b[1;33m\u001b[0m\u001b[0m\n\u001b[0;32m      3\u001b[0m \u001b[0mdf\u001b[0m \u001b[1;33m=\u001b[0m \u001b[0mpx\u001b[0m\u001b[1;33m.\u001b[0m\u001b[0mdata\u001b[0m\u001b[1;33m.\u001b[0m\u001b[0miris\u001b[0m\u001b[1;33m(\u001b[0m\u001b[1;33m)\u001b[0m\u001b[1;33m\u001b[0m\u001b[1;33m\u001b[0m\u001b[0m\n\u001b[1;32m----> 4\u001b[1;33m \u001b[0mfig\u001b[0m \u001b[1;33m=\u001b[0m \u001b[0mpx\u001b[0m\u001b[1;33m.\u001b[0m\u001b[0mscatter_4d\u001b[0m\u001b[1;33m(\u001b[0m\u001b[0mdf\u001b[0m\u001b[1;33m,\u001b[0m \u001b[0mx\u001b[0m\u001b[1;33m=\u001b[0m\u001b[1;34m'sepal_length'\u001b[0m\u001b[1;33m,\u001b[0m \u001b[0my\u001b[0m\u001b[1;33m=\u001b[0m\u001b[1;34m'sepal_width'\u001b[0m\u001b[1;33m,\u001b[0m \u001b[0mz\u001b[0m\u001b[1;33m=\u001b[0m\u001b[1;34m'petal_width'\u001b[0m\u001b[1;33m,\u001b[0m \u001b[0md\u001b[0m\u001b[1;33m=\u001b[0m\u001b[1;34m\"petal_length\"\u001b[0m\u001b[1;33m,\u001b[0m \u001b[0mcolor\u001b[0m\u001b[1;33m=\u001b[0m\u001b[1;34m'species'\u001b[0m\u001b[1;33m)\u001b[0m\u001b[1;33m\u001b[0m\u001b[1;33m\u001b[0m\u001b[0m\n\u001b[0m\u001b[0;32m      5\u001b[0m \u001b[0mfig\u001b[0m\u001b[1;33m.\u001b[0m\u001b[0mshow\u001b[0m\u001b[1;33m(\u001b[0m\u001b[0mrenderer\u001b[0m\u001b[1;33m=\u001b[0m\u001b[1;34m\"browser\"\u001b[0m\u001b[1;33m)\u001b[0m\u001b[1;33m\u001b[0m\u001b[1;33m\u001b[0m\u001b[0m\n",
      "\u001b[1;31mAttributeError\u001b[0m: module 'plotly.express' has no attribute 'scatter_4d'"
     ]
    }
   ],
   "source": [
    "import plotly.express as px\n",
    "\n",
    "df = px.data.iris()\n",
    "fig = px.scatter_4d(df, x='sepal_length', y='sepal_width', z='petal_width', d=\"petal_length\", color='species')\n",
    "fig.show(renderer=\"browser\")"
   ]
  },
  {
   "cell_type": "code",
   "execution_count": 11,
   "id": "3bc854e3",
   "metadata": {},
   "outputs": [
    {
     "name": "stdout",
     "output_type": "stream",
     "text": [
      "[0 1 2]\n",
      "0 1 2\n",
      "100.0 %\n"
     ]
    }
   ],
   "source": [
    "from sklearn import datasets\n",
    "from sklearn import svm\n",
    "\n",
    "digit=datasets.load_digits()\n",
    "\n",
    "s = svm.SVC(gamma=0.1, C=10)\n",
    "s.fit(digit.data,digit.target)\n",
    "\n",
    "new_d = [digit.data[0],digit.data[1],digit.data[2]]\n",
    "res = s.predict(new_d)\n",
    "print(res)\n",
    "print(digit.target[0],digit.target[1],digit.target[2])\n",
    "\n",
    "res = s.predict(digit.data)\n",
    "correct = [i for i in range(len(res)) if res[i] == digit.target[i]]\n",
    "accuracy = len(correct)/len(res)\n",
    "print(accuracy*100, \"%\")"
   ]
  },
  {
   "cell_type": "code",
   "execution_count": null,
   "id": "789a2196",
   "metadata": {},
   "outputs": [],
   "source": [
    "month = {'jan':31, 'feb':30, 'mar':31, 'apr':30, 'may':31, 'jun':30, \"july\", \"agu\", \"sep\", \"oct\", \"nov\", \"dec\"}"
   ]
  }
 ],
 "metadata": {
  "kernelspec": {
   "display_name": "Python 3",
   "language": "python",
   "name": "python3"
  },
  "language_info": {
   "codemirror_mode": {
    "name": "ipython",
    "version": 3
   },
   "file_extension": ".py",
   "mimetype": "text/x-python",
   "name": "python",
   "nbconvert_exporter": "python",
   "pygments_lexer": "ipython3",
   "version": "3.8.8"
  }
 },
 "nbformat": 4,
 "nbformat_minor": 5
}
