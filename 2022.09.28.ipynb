{
 "cells": [
  {
   "cell_type": "code",
   "execution_count": 105,
   "id": "84126a20",
   "metadata": {},
   "outputs": [
    {
     "name": "stdout",
     "output_type": "stream",
     "text": [
      "{'date': [25, 25, 25, 25, 25, 25, 25, 25, 25, 25, 25, 25, 25, 25, 25, 25], 'time1': ['18:45', '18:45', '18:45', '18:45', '18:45', '18:45', '18:45', '18:45', '18:45', '18:45', '18:45', '18:45', '18:45', '18:45', '18:45', '18:45'], 'time2': ['10:35', '11:35', '10:05', '10:35', '11:05', '11:35', '12:05', '12:35', '12:35', '13:35', '13:35', '15:35', '15:35', '16:35', '17:35', '17:35'], 'duration': ['13시간 50분', '14시간 50분', '13시간 20분', '13시간 50분', '14시간 20분', '14시간 50분', '15시간 20분', '15시간 50분', '15시간 50분', '16시간 50분', '16시간 50분', '18시간 50분', '18시간 50분', '19시간 50분', '20시간 50분', '20시간 50분'], 'transfer': ['  SYD\\n 경유', '  SYD\\n 경유', '  SYD\\n 경유', '  SYD\\n 경유', '  SYD\\n 경유', '  SYD\\n 경유', '  SYD\\n 경유', '  SYD\\n 경유', '  SYD\\n 경유', '  SYD\\n 경유', '  SYD\\n 경유', '  SYD\\n 경유', '  SYD\\n 경유', '  SYD\\n 경유', '  SYD\\n 경유', '  SYD\\n 경유'], 'flight_number1': ['KE401', 'KE401', 'KE401', 'KE401', 'KE401', 'KE401', 'KE401', 'KE401', 'KE401', 'KE401', 'KE401', 'KE401', 'KE401', 'KE401', 'KE401', 'KE401'], 'flight_number2': ['VA824   V Australia 항공기로 운항', 'VA830   V Australia 항공기로 운항', 'QF423   콴타스항공 항공기로 운항', 'QF427   콴타스항공 항공기로 운항', 'VA826   V Australia 항공기로 운항', 'QF433   콴타스항공 항공기로 운항', 'VA832   V Australia 항공기로 운항', 'QF437   콴타스항공 항공기로 운항', 'VA834   V Australia 항공기로 운항', 'VA838   V Australia 항공기로 운항', 'QF441   콴타스항공 항공기로 운항', 'QF449   콴타스항공 항공기로 운항', 'VA846   V Australia 항공기로 운항', 'QF455   콴타스항공 항공기로 운항', 'VA858   V Australia 항공기로 운항', 'QF463   콴타스항공 항공기로 운항'], 'price': ['최저 1,324,300 원', '최저 1,324,300 원', '최저 1,342,000 원', '최저 1,342,000 원', '최저 1,324,300 원', '최저 1,342,000 원', '최저 1,324,300 원', '최저 1,342,000 원', '최저 1,324,300 원', '매진', '매진', '최저 1,342,000 원', '매진', '최저 1,342,000 원', '최저 1,324,300 원', '최저 1,342,000 원']}\n"
     ]
    }
   ],
   "source": [
    "from selenium import webdriver\n",
    "from selenium.webdriver.common.by import By\n",
    "from selenium.webdriver.common.keys import Keys\n",
    "from bs4 import BeautifulSoup as bs\n",
    "import pandas as pd\n",
    "import time\n",
    "\n",
    "url = \"https://www.koreanair.com/booking/select-flight/departure\"\n",
    "keyword = \"멜버른\"\n",
    "date = 25\n",
    "data_dic = {'date' : [],\n",
    "            'time1' : [],\n",
    "            'time2' : [],\n",
    "            'duration' : [],\n",
    "            'transfer' : [],\n",
    "            'flight_number1' : [],\n",
    "            'flight_number2' : [],\n",
    "            'price' : []}\n",
    "\n",
    "features = ['date', 'time1', 'time2', 'duration', 'transfer', 'flight_number1', 'flight_number2', 'price']\n",
    "options = []\n",
    "\n",
    "driver = webdriver.Chrome()\n",
    "driver.get(url)\n",
    "driver.implicitly_wait(10)\n",
    "\n",
    "destination_btn = driver.find_element(By.XPATH, '//span[text() = \"To\"]')\n",
    "destination_btn.click()\n",
    "destination_name = driver.find_element(By.CLASS_NAME, 'auto-search__text')\n",
    "destination_name.send_keys(keyword)\n",
    "time.sleep(1)\n",
    "destination_name.send_keys(Keys.ARROW_DOWN)\n",
    "destination_name.send_keys(Keys.ENTER)\n",
    "one_way_btn = driver.find_elements(By.CLASS_NAME, 'selection')\n",
    "one_way_btn[1].click()\n",
    "date_btn = driver.find_element(By.CLASS_NAME, \"booking-new__datepicker\")\n",
    "date_btn.click()\n",
    "flight_date = driver.find_elements(By.XPATH, \"//span[text()='25']\")\n",
    "flight_date[2].click()\n",
    "confirm_btn = driver.find_element(By.XPATH, \"//button[contains(text(),'확인')]\")\n",
    "confirm_btn.click()\n",
    "confirm_btn2 = driver.find_element(By.XPATH, \"//button[contains(text(),'항공편 검색')]\")\n",
    "confirm_btn2.click()\n",
    "driver.implicitly_wait(5)\n",
    "time.sleep(1)\n",
    "\n",
    "if driver.current_url == \"https://www.koreanair.com/booking/select-flight/departure\":\n",
    "    flight_date = date\n",
    "    flight_time = driver.find_elements(By.CLASS_NAME, \"flight__time\")\n",
    "    flight_duration = driver.find_elements(By.CLASS_NAME, \"flight__duration\")\n",
    "    flight_transfer = driver.find_elements(By.CLASS_NAME, \"flight__stop\")\n",
    "    flight_number = driver.find_elements(By.CLASS_NAME, \"flight__number\")\n",
    "    flight_fares = driver.find_elements(By.CLASS_NAME, \"flight__fare\")\n",
    "    \n",
    "    for i in range(len(flight_fares)):\n",
    "        data_dic['date'].append(flight_date)\n",
    "        data_dic['duration'].append(flight_duration[i].text)\n",
    "        data_dic['transfer'].append(flight_transfer[i].text)\n",
    "        data_dic['price'].append(flight_fares[i].text)\n",
    "    \n",
    "    for i in range(0,len(flight_time), 2):\n",
    "        data_dic['time1'].append(flight_time[i].text)\n",
    "        data_dic['time2'].append(flight_time[i+1].text)\n",
    "        data_dic['flight_number1'].append(flight_number[i].text)\n",
    "        data_dic['flight_number2'].append(flight_number[i+1].text)\n",
    "        \n",
    "print(data_dic)\n",
    "data_df = pd.DataFrame(data_dic)\n",
    "data_df.to_excel(\"3.xlsx\")"
   ]
  },
  {
   "cell_type": "code",
   "execution_count": null,
   "id": "8428eade",
   "metadata": {},
   "outputs": [],
   "source": [
    "if driver.current_url == \"https://www.koreanair.com/booking/select-flight/departure\":\n",
    "https://www.koreanair.com/booking/select-flight/departure\n",
    "    \n",
    "      if f.text != \"매진\":\n",
    "            flight_div = driver.find_elements(By.CLASS_NAME, \"flight__clickwrap\")\n",
    "            print\n",
    "        else:\n",
    "            pass\n",
    "        "
   ]
  }
 ],
 "metadata": {
  "kernelspec": {
   "display_name": "Python 3",
   "language": "python",
   "name": "python3"
  },
  "language_info": {
   "codemirror_mode": {
    "name": "ipython",
    "version": 3
   },
   "file_extension": ".py",
   "mimetype": "text/x-python",
   "name": "python",
   "nbconvert_exporter": "python",
   "pygments_lexer": "ipython3",
   "version": "3.8.8"
  }
 },
 "nbformat": 4,
 "nbformat_minor": 5
}
