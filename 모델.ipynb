{
 "cells": [
  {
   "cell_type": "code",
   "execution_count": null,
   "id": "504b0335",
   "metadata": {},
   "outputs": [],
   "source": [
    "le = preprocessing.LabelEncoder()\n",
    "data['time1'] = le.fit_transform(data['time1'])\n",
    "data['time2'] = le.fit_transform(data['time2'])\n",
    "data['flight_number1'] = le.fit_transform(data['flight_number1'])\n",
    "data['flight_number2'] = le.fit_transform(data['flight_number2'])\n",
    "data['country'] = le.fit_transform(data['country'])\n",
    "data['date'] = le.fit_transform(data['date'])\n",
    "\n",
    "Y = data[\"price\"]\n",
    "X = data.loc[:, data.columns != 'price']\n",
    "validation_size = 0.2\n",
    "seed = 7\n",
    "X_train, X_test, Y_train, Y_test = train_test_split(X, Y, test_size=validation_size, random_state=seed)"
   ]
  }
 ],
 "metadata": {
  "kernelspec": {
   "display_name": "Python 3",
   "language": "python",
   "name": "python3"
  },
  "language_info": {
   "codemirror_mode": {
    "name": "ipython",
    "version": 3
   },
   "file_extension": ".py",
   "mimetype": "text/x-python",
   "name": "python",
   "nbconvert_exporter": "python",
   "pygments_lexer": "ipython3",
   "version": "3.8.8"
  }
 },
 "nbformat": 4,
 "nbformat_minor": 5
}
